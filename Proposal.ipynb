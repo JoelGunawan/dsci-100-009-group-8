{
 "cells": [
  {
   "cell_type": "markdown",
   "metadata": {},
   "source": [
    "# DSCI 100 Section 009 Group 8 Project Proposal"
   ]
  },
  {
   "cell_type": "markdown",
   "metadata": {},
   "source": [
    "## Introduction\n",
    "### Background Information\n",
    "The UEFA Champions League is one of the most presitigous and widely followed club football competitions. The competition brings elite football clubs from across Europe together in competition.The data we chose to analyze is about game statistics. We are using the keystats.csv dataset. Our data set contains serial number, player name, club name, position, and various game statistics such as distance traveled on the field, number of goals, number of dribbles, etc. Our goal is to use the game statistics like number of goals and distance traveled on the field to predict the positions of the players.\n",
    "\n",
    "### Questions\n",
    "Predict the position of the player that participated in UEFA Champions League 2021-2022 based on the goals and distance covered in the fields.\n",
    "\n",
    "### Dataset Description\n",
    "The dataset source is the UEFA player statistics for every player in the UEFA Champions League in the 2021-2022 season scraped by Azmine Toushik Wasi."
   ]
  },
  {
   "cell_type": "markdown",
   "metadata": {},
   "source": [
    "## Methods\n",
    "### Variables and Columns Used\n",
    "\n",
    "### Result Visualization Methods"
   ]
  },
  {
   "cell_type": "markdown",
   "metadata": {},
   "source": [
    "## Expected outcomes and significance\n",
    "\n",
    "###  Expected Findings \n",
    "The goal of the analysis is to predict the position of players who participated in the UEFA Champions League 2021-2022 based on their performance metrics, specifically goals scored and distance covered on the field. We anticipate finding patterns and relationships in the data that allow us to classify players into different positions using a K-Nearest Neighbors (KNN) classification model.\n",
    "\n",
    "### Impact of Findings\n",
    "Such findings can have several significant impacts. Firstly, they can provide insights into the key performance indicators for different player positions, aiding coaches and scouts in player recruitment and tactical strategies. Secondly, it can assist in the development of more accurate and data-driven player profiles for fans, analysts, and fantasy football enthusiasts. Lastly, it may contribute to enhancing the overall understanding of player roles and their relationships to performance metrics, potentially influencing player development and training methodologies.\n",
    "\n",
    "### Future Questions\n",
    "These findings may lead to several future questions and areas of research. For instance, it could prompt inquiries into how different factors, such as player age, playing style, or team tactics, influence the relationship between goals scored, distance covered, and player position. It could also lead to more sophisticated machine learning models that incorporate additional performance metrics for even more accurate position classification. Furthermore, this analysis could open up discussions on the evolving nature of player positions in modern football and how they are defined in the context of data-driven insights."
   ]
  },
  {
   "cell_type": "markdown",
   "metadata": {},
   "source": []
  }
 ],
 "metadata": {
  "kernelspec": {
   "display_name": "Python 3 (ipykernel)",
   "language": "python",
   "name": "python3"
  },
  "language_info": {
   "codemirror_mode": {
    "name": "ipython",
    "version": 3
   },
   "file_extension": ".py",
   "mimetype": "text/x-python",
   "name": "python",
   "nbconvert_exporter": "python",
   "pygments_lexer": "ipython3",
   "version": "3.10.8"
  }
 },
 "nbformat": 4,
 "nbformat_minor": 4
}
