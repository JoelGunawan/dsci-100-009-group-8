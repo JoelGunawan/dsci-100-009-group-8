{
 "cells": [
  {
   "cell_type": "markdown",
   "metadata": {},
   "source": [
    "# DSCI 100 Section 009 Group 8 Project Proposal"
   ]
  },
  {
   "cell_type": "markdown",
   "metadata": {},
   "source": [
    "## Introduction\n",
    "### Background Information\n",
    "The UEFA Champions League is one of the most presitigous and widely followed club football competitions. The competition brings elite football clubs from across Europe together in competition.The data we chose to analyze is about game statistics. We are using the keystats.csv dataset. Our data set contains serial number, player name, club name, position, and various game statistics such as distance traveled on the field, number of goals, number of dribbles, etc. Our goal is to use the game statistics like number of goals and distance traveled on the field to predict the positions of the players.\n",
    "\n",
    "### Questions\n",
    "Predict the position of the player that participated in UEFA Champions League 2021-2022 based on the goals and distance covered in the fields.\n",
    "\n",
    "### Dataset Description\n",
    "The dataset source is the UEFA player statistics for every player in the UEFA Champions League in the 2021-2022 season scraped by Azmine Toushik Wasi."
   ]
  },
  {
   "cell_type": "markdown",
   "metadata": {},
   "source": [
    "## Preliminary Exploratory Data Analysis\n",
    "### Reading the Data\n",
    "First of all, the data has been pushed to our group's github repository. Therefore, we can use the read_csv function to read all the data we need (our data is separated into several files). First of all, we need to initialize the libraries we are going to use"
   ]
  },
  {
   "cell_type": "code",
   "execution_count": null,
   "metadata": {
    "vscode": {
     "languageId": "r"
    }
   },
   "outputs": [],
   "source": [
    "library(tidyverse)\n",
    "library(repr)\n",
    "library(tidymodels)\n",
    "options(repr.matrix.max.rows = 6)\n",
    "source('tests.R')\n",
    "source('cleanup.R')"
   ]
  },
  {
   "cell_type": "markdown",
   "metadata": {},
   "source": [
    "The dataset we will use are the key stats, defending, and distribution dataset. We will read them using the read_csv function"
   ]
  },
  {
   "cell_type": "code",
   "execution_count": 1,
   "metadata": {
    "vscode": {
     "languageId": "r"
    }
   },
   "outputs": [
    {
     "ename": "ERROR",
     "evalue": "Error in read_csv(\"https://raw.githubusercontent.com/JoelGunawan/dsci-100-009-group-8/main/data/key_stats.csv\"): could not find function \"read_csv\"\n",
     "output_type": "error",
     "traceback": [
      "Error in read_csv(\"https://raw.githubusercontent.com/JoelGunawan/dsci-100-009-group-8/main/data/key_stats.csv\"): could not find function \"read_csv\"\nTraceback:\n"
     ]
    }
   ],
   "source": [
    "key_stats <- read_csv(\"https://raw.githubusercontent.com/JoelGunawan/dsci-100-009-group-8/main/data/key_stats.csv\")\n",
    "defending <- read_csv(\"https://raw.githubusercontent.com/JoelGunawan/dsci-100-009-group-8/main/data/defending.csv\")\n",
    "distribution <- read_csv(\"https://raw.githubusercontent.com/JoelGunawan/dsci-100-009-group-8/main/data/distributon.csv\")"
   ]
  },
  {
   "cell_type": "markdown",
   "metadata": {},
   "source": [
    "### Cleaning and Wrangling\n",
    "The data we have is separated into several different datasets, therefore we will merge the dataset together using the merge function, which will merge two different data frames based on a certain property"
   ]
  },
  {
   "cell_type": "code",
   "execution_count": 2,
   "metadata": {
    "vscode": {
     "languageId": "r"
    }
   },
   "outputs": [
    {
     "ename": "ERROR",
     "evalue": "Error in eval(expr, envir, enclos): object 'key_stats' not found\n",
     "output_type": "error",
     "traceback": [
      "Error in eval(expr, envir, enclos): object 'key_stats' not found\nTraceback:\n",
      "1. merge(merge(key_stats, defending, by = \"player_name\"), distribution, \n .     by = \"player_name\")",
      "2. merge(key_stats, defending, by = \"player_name\")"
     ]
    }
   ],
   "source": [
    "football <- merge(key_stats, defending, by = \"player_name\") |>\n",
    "    merge(distribution, by = \"player_name\")\n",
    "football"
   ]
  },
  {
   "cell_type": "markdown",
   "metadata": {},
   "source": [
    "We will wrangle the data in several ways before we can use it. First of all, we will change the position to a factor because it is a categorical value. After that, the distance covered initially given is stored in a character value, but we need it as a numeric. Therefore, we will convert it to a numeric column. After that, we will remove all goalkeepers from our model, because the position of goalkeeper is concrete and predicting which players are goalkeepers are not of relevance to anyone because they are so distinct."
   ]
  },
  {
   "cell_type": "markdown",
   "metadata": {},
   "source": [
    "## Methods\n",
    "### Variables and Columns Used\n",
    "\n",
    "### Result Visualization Methods"
   ]
  },
  {
   "cell_type": "markdown",
   "metadata": {},
   "source": [
    "## Expected outcomes and significance\n",
    "\n",
    "###  Expected Findings \n",
    "The goal of the analysis is to predict the position of players who participated in the UEFA Champions League 2021-2022 based on their performance metrics, specifically goals scored and distance covered on the field. We anticipate finding patterns and relationships in the data that allow us to classify players into different positions using a K-Nearest Neighbors (KNN) classification model.\n",
    "\n",
    "### Impact of Findings\n",
    "Such findings can have several significant impacts. Firstly, they can provide insights into the key performance indicators for different player positions, aiding coaches and scouts in player recruitment and tactical strategies. Secondly, it can assist in the development of more accurate and data-driven player profiles for fans, analysts, and fantasy football enthusiasts. Lastly, it may contribute to enhancing the overall understanding of player roles and their relationships to performance metrics, potentially influencing player development and training methodologies.\n",
    "\n",
    "### Future Questions\n",
    "These findings may lead to several future questions and areas of research. For instance, it could prompt inquiries into how different factors, such as player age, playing style, or team tactics, influence the relationship between goals scored, distance covered, and player position. It could also lead to more sophisticated machine learning models that incorporate additional performance metrics for even more accurate position classification. Furthermore, this analysis could open up discussions on the evolving nature of player positions in modern football and how they are defined in the context of data-driven insights."
   ]
  },
  {
   "cell_type": "markdown",
   "metadata": {},
   "source": []
  }
 ],
 "metadata": {
  "kernelspec": {
   "display_name": "R",
   "language": "R",
   "name": "ir"
  },
  "language_info": {
   "codemirror_mode": "r",
   "file_extension": ".r",
   "mimetype": "text/x-r-source",
   "name": "R",
   "pygments_lexer": "r",
   "version": "4.3.1"
  }
 },
 "nbformat": 4,
 "nbformat_minor": 4
}
